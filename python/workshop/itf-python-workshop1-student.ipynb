{
 "cells": [
  {
   "cell_type": "markdown",
   "metadata": {},
   "source": [
    "### Problem 1\n",
    "\n",
    "Write a program that multiplies three numbers entered by the user. Print the output with the format method."
   ]
  },
  {
   "cell_type": "code",
   "execution_count": 1,
   "metadata": {},
   "outputs": [
    {
     "output_type": "stream",
     "name": "stdout",
     "text": [
      "3.0 x 4.0 x 5.0 equals to  60.0\n"
     ]
    }
   ],
   "source": [
    "num1 = float(input(\"Please enter first number: \"))\n",
    "num2 = float(input(\"Please enter second number: \"))\n",
    "num3 = float(input(\"Please enter third number: \"))\n",
    "print(\"{} x {} x {} equals to \".format(num1, num2, num3), num1 * num2 * num3)"
   ]
  },
  {
   "cell_type": "markdown",
   "metadata": {},
   "source": [
    "### Problem 2\n",
    "\n",
    "Write a program that calculates body mass index from **height** and **weight** entered by the user. \n",
    "\n",
    "Body mass index :  Weight / Height(m) * Height(m)"
   ]
  },
  {
   "cell_type": "code",
   "execution_count": 4,
   "metadata": {},
   "outputs": [
    {
     "output_type": "stream",
     "name": "stdout",
     "text": [
      "Your body mass index(BMI) is 23.600260416666668\n"
     ]
    }
   ],
   "source": [
    "height = float(input(\"Please enter your height as meter: \"))\n",
    "weight = float(input(\"Please enter your weight as kilogram: \"))\n",
    "print(\"Your body mass index(BMI) is\", weight / height ** 2)"
   ]
  },
  {
   "source": [
    "### Problem 3\n",
    "\n",
    "With your $ 200, how many pieces of material can you get for $ 11 each? How much money do you have left after buying?"
   ],
   "cell_type": "markdown",
   "metadata": {}
  },
  {
   "cell_type": "code",
   "execution_count": 12,
   "metadata": {},
   "outputs": [
    {
     "output_type": "execute_result",
     "data": {
      "text/plain": [
       "(18, 2)"
      ]
     },
     "metadata": {},
     "execution_count": 12
    }
   ],
   "source": [
    "200 // 11, 200 % 11"
   ]
  },
  {
   "cell_type": "markdown",
   "metadata": {},
   "source": [
    "### Problem 4\n",
    "\n",
    "Ask the user for two numbers and assign these numbers to variables and replace the values of these variables with each other."
   ]
  },
  {
   "cell_type": "code",
   "execution_count": 13,
   "metadata": {},
   "outputs": [
    {
     "output_type": "stream",
     "name": "stdout",
     "text": [
      "Your first number is 9 Your second number is 3\n"
     ]
    }
   ],
   "source": [
    "number1 = int(input(\"Please enter first number: \"))\n",
    "number2 = int(input(\"Please enter second number: \"))\n",
    "number1, number2 = number2, number1\n",
    "print(\"Your first number is\", number1, \"Your second number is\", number2)"
   ]
  },
  {
   "cell_type": "markdown",
   "metadata": {},
   "source": [
    "### Problem 5\n",
    "\n",
    "Write a Python program to solve (x - y) * (x + y)."
   ]
  },
  {
   "cell_type": "code",
   "execution_count": 20,
   "metadata": {},
   "outputs": [
    {
     "output_type": "stream",
     "name": "stdout",
     "text": [
      "-7\n-7\n"
     ]
    }
   ],
   "source": [
    "x = 3\n",
    "y = 4\n",
    "print((x - y) * (x + y))\n",
    "print(x ** 2 - y ** 2)"
   ]
  },
  {
   "cell_type": "markdown",
   "metadata": {},
   "source": [
    "### Problem 6\n",
    "\n",
    "Get **word**, **seperator** and **repetition** values from the user and print the word on the screen according to the given values. \n",
    "\n",
    "Ex: word = ali sep = / repetition = 3 ----> ali/ali/ali"
   ]
  },
  {
   "cell_type": "code",
   "execution_count": 1,
   "metadata": {},
   "outputs": [
    {
     "output_type": "stream",
     "name": "stdout",
     "text": [
      "ali/ali/ali\n"
     ]
    }
   ],
   "source": [
    "word = input(\"Please enter a word: \")\n",
    "seperator = input(\"Please enter a seperator: \")\n",
    "repetition = int(input(\"Please enter a repetition: \"))\n",
    "print(((word + seperator) * repetition).strip(seperator))"
   ]
  },
  {
   "cell_type": "markdown",
   "metadata": {},
   "source": [
    "### Problem 7\n",
    "\n",
    "Get a sitring and an integer input from the user and get the output shown as in the example.\n",
    "\n",
    "Ex: word = Clarusway n = 3 OUTPUT = waywayway"
   ]
  },
  {
   "cell_type": "code",
   "execution_count": 12,
   "metadata": {},
   "outputs": [
    {
     "output_type": "stream",
     "name": "stdout",
     "text": [
      "ruswayruswayrusway\n"
     ]
    }
   ],
   "source": [
    "string = input(\"Please enter a string: \")\n",
    "integer = int(input(\"Please enter an integer: \"))\n",
    "print(string[-integer:] * abs(integer))"
   ]
  },
  {
   "cell_type": "markdown",
   "metadata": {},
   "source": [
    "### Problem 8\n",
    "\n",
    "Get a number from the user. \n",
    "\n",
    "If the number is divided by 3 print *Clarus*, if it is divided by 5 print *way*, if it is divided by both 3 and 5 print *Clarusway*. \n",
    "\n",
    "If not, print the number itself."
   ]
  },
  {
   "cell_type": "code",
   "execution_count": 38,
   "metadata": {},
   "outputs": [
    {
     "output_type": "stream",
     "name": "stdout",
     "text": [
      "Clarusway\n"
     ]
    }
   ],
   "source": [
    "num = int(float(input(\"Please enter a number: \")))\n",
    "if num % 3 == 0 and num % 5 == 0:\n",
    "    print(\"Clarusway\")    \n",
    "elif num % 5 == 0:\n",
    "    print(\"way\")\n",
    "elif num % 3 == 0:\n",
    "    print(\"Clarus\")\n",
    "else:\n",
    "    print(num)"
   ]
  },
  {
   "cell_type": "markdown",
   "metadata": {},
   "source": [
    "### Problem 9\n",
    "letters = \"abclarusxyz\"\n",
    "- get the word **clarus** in the string\n",
    "- get the word **cba**\n",
    "- print the last eight characters in reverse order"
   ]
  },
  {
   "cell_type": "code",
   "execution_count": 39,
   "metadata": {},
   "outputs": [
    {
     "output_type": "stream",
     "name": "stdout",
     "text": [
      "clarus\n"
     ]
    }
   ],
   "source": [
    "letters = \"abclarusxyz\"\n",
    "print(letters[2:-3])"
   ]
  },
  {
   "cell_type": "code",
   "execution_count": 40,
   "metadata": {},
   "outputs": [
    {
     "output_type": "stream",
     "name": "stdout",
     "text": [
      "cba\n"
     ]
    }
   ],
   "source": [
    "print(letters[2::-1])"
   ]
  },
  {
   "cell_type": "code",
   "execution_count": 45,
   "metadata": {},
   "outputs": [
    {
     "output_type": "stream",
     "name": "stdout",
     "text": [
      "zyxsura\n"
     ]
    }
   ],
   "source": [
    "print(letters[-1:-8:-1])"
   ]
  },
  {
   "cell_type": "markdown",
   "metadata": {},
   "source": [
    "### Problem 10\n",
    "\n",
    "Print **Clarusway is the best** from the elements of the rand_list list.\n",
    "\n",
    "rand_list = [1,[1, 2, \"Clarus\", [2, \"way\"]], \" is the best\"]"
   ]
  },
  {
   "cell_type": "code",
   "execution_count": 46,
   "metadata": {},
   "outputs": [
    {
     "output_type": "stream",
     "name": "stdout",
     "text": [
      "Clarusway is the best\n"
     ]
    }
   ],
   "source": [
    "rand_list = [1,[1, 2, \"Clarus\", 2, \"way\"], \" is the best\"]\n",
    "print(rand_list[1][2] + rand_list[1][4] + rand_list[2])"
   ]
  },
  {
   "cell_type": "markdown",
   "metadata": {},
   "source": [
    "### Problem 11\n",
    "\n",
    "Sort the list given below in ascending order. Find the missing number from 1 to 10.\n",
    "\n",
    "num_list = [2, 3, 1, 5, 6, 4, 9, 8, 10]"
   ]
  },
  {
   "cell_type": "code",
   "execution_count": 80,
   "metadata": {},
   "outputs": [
    {
     "output_type": "stream",
     "name": "stdout",
     "text": [
      "[1, 2, 3, 4, 5, 6, 8, 9, 10]\n7\n"
     ]
    }
   ],
   "source": [
    "num_list = 2, 3, 1, 5, 6, 4, 9, 8, 10\n",
    "print(sorted(num_list))\n",
    "print(10 * (10 + 1) // 2 - sum(num_list))"
   ]
  },
  {
   "cell_type": "markdown",
   "metadata": {},
   "source": [
    "### Problem 12\n",
    "\n",
    "Print the oldest person's name?\n",
    "\n",
    "old ={\n",
    "  \"Emma\": 71,\n",
    "  \"Jack\": 45,\n",
    "  \"Amy\": 15,\n",
    "  \"Ben\": 29\n",
    "}"
   ]
  },
  {
   "cell_type": "code",
   "execution_count": 85,
   "metadata": {},
   "outputs": [
    {
     "output_type": "stream",
     "name": "stdout",
     "text": [
      "Emma\n"
     ]
    }
   ],
   "source": [
    "old ={ \"Emma\": 71, \"Jack\": 45, \"Amy\": 15, \"Ben\": 29 }\n",
    "print(list(old.keys())[list(old.values()).index(sorted(old.values())[-1])])"
   ]
  },
  {
   "cell_type": "markdown",
   "metadata": {},
   "source": [
    "### Problem 13\n",
    "\n",
    "Write a Python program to sum all the items in a dictionary.\n",
    "\n",
    "my_dict = {'data1':100,'data2':-54,'data3':247}"
   ]
  },
  {
   "cell_type": "code",
   "execution_count": 88,
   "metadata": {},
   "outputs": [
    {
     "output_type": "stream",
     "name": "stdout",
     "text": [
      "293\n"
     ]
    }
   ],
   "source": [
    "my_dict = {'data1':100,'data2':-54,'data3':247}\n",
    "print(sum(my_dict.values()))"
   ]
  },
  {
   "cell_type": "markdown",
   "metadata": {},
   "source": [
    "### Problem 14\n",
    "\n",
    "Write a Python program to compute average of two given lists.\n",
    "\n",
    "nums1 = [1, 1, 3, 4, 4, 5, 6, 7]\n",
    "nums2 = [0, 1, 2, 3, 4, 4, 5, 7, 8]"
   ]
  },
  {
   "cell_type": "code",
   "execution_count": 98,
   "metadata": {},
   "outputs": [
    {
     "output_type": "stream",
     "name": "stdout",
     "text": [
      "3.875\n3.7777777777777777\n"
     ]
    }
   ],
   "source": [
    "nums1 = [1, 1, 3, 4, 4, 5, 6, 7]\n",
    "nums2 = [0, 1, 2, 3, 4, 4, 5, 7, 8]\n",
    "print(sum(nums1) / len(nums1))\n",
    "print(sum(nums2) / len(nums2))"
   ]
  }
 ],
 "metadata": {
  "kernelspec": {
   "display_name": "Python 3",
   "language": "python",
   "name": "python3"
  },
  "language_info": {
   "codemirror_mode": {
    "name": "ipython",
    "version": 3
   },
   "file_extension": ".py",
   "mimetype": "text/x-python",
   "name": "python",
   "nbconvert_exporter": "python",
   "pygments_lexer": "ipython3",
   "version": "3.8.5-final"
  }
 },
 "nbformat": 4,
 "nbformat_minor": 2
}
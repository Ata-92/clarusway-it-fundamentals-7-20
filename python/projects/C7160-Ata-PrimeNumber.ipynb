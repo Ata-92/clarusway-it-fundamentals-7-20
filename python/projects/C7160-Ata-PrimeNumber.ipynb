{
 "metadata": {
  "language_info": {
   "codemirror_mode": {
    "name": "ipython",
    "version": 3
   },
   "file_extension": ".py",
   "mimetype": "text/x-python",
   "name": "python",
   "nbconvert_exporter": "python",
   "pygments_lexer": "ipython3",
   "version": 3
  },
  "orig_nbformat": 2
 },
 "nbformat": 4,
 "nbformat_minor": 2,
 "cells": [
  {
   "cell_type": "code",
   "execution_count": null,
   "metadata": {},
   "outputs": [],
   "source": [
    "num = input(\"Please enter a number: \")\n",
    "if num.isdigit() and bool(int(num)) == True:\n",
    "    for n in range(2, 10):        \n",
    "        if int(num) in [2, 3, 5, 7] or int(num) % n != 0 and int(num) != 1:\n",
    "            result = num + \" is a prime number\"\n",
    "        else:\n",
    "            result = num + \" is not a prime number\"\n",
    "            break\n",
    "    print(result)\n",
    "else:\n",
    "    print(num + \" is not a prime number\")"
   ]
  }
 ]
}
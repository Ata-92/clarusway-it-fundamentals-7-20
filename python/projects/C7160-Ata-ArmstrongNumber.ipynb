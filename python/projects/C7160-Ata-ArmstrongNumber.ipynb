{
 "metadata": {
  "language_info": {
   "codemirror_mode": {
    "name": "ipython",
    "version": 3
   },
   "file_extension": ".py",
   "mimetype": "text/x-python",
   "name": "python",
   "nbconvert_exporter": "python",
   "pygments_lexer": "ipython3",
   "version": 3
  },
  "orig_nbformat": 2
 },
 "nbformat": 4,
 "nbformat_minor": 2,
 "cells": [
  {
   "cell_type": "code",
   "execution_count": null,
   "metadata": {},
   "outputs": [],
   "source": [
    "number = input(\"Please enter a positive integer number: \")\n",
    "if number.isdigit() == True and bool(int(number)) == True:\n",
    "    t = 0\n",
    "    for i in number:\n",
    "        t += int(i) ** len(number)\n",
    "        if t == int(number):\n",
    "            output = number + \" is an Armstrong number\"\n",
    "        else:\n",
    "            output = number + \" is not an Armstrong number\"\n",
    "    print(output)\n",
    "else:\n",
    "    print(\"It is an invalid entry. Don't use non-numeric, float, or negative values!\")"
   ]
  }
 ]
}
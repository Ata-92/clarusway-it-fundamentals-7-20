{
 "metadata": {
  "language_info": {
   "codemirror_mode": {
    "name": "ipython",
    "version": 3
   },
   "file_extension": ".py",
   "mimetype": "text/x-python",
   "name": "python",
   "nbconvert_exporter": "python",
   "pygments_lexer": "ipython3",
   "version": 3
  },
  "orig_nbformat": 2
 },
 "nbformat": 4,
 "nbformat_minor": 2,
 "cells": [
  {
   "cell_type": "code",
   "execution_count": null,
   "metadata": {},
   "outputs": [],
   "source": [
    "num1 = 0\n",
    "num2 = 1\n",
    "sequence = []\n",
    "while num1 < 55:\n",
    "    num1, num2 = num2, num1\n",
    "    num2 = num1 + num2\n",
    "    sequence.append(num1)\n",
    "print(\"fibonacci → \", sequence)"
   ]
  }
 ]
}